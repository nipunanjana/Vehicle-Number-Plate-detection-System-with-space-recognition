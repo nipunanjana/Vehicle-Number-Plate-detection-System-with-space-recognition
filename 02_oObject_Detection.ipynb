{
 "cells": [
  {
   "cell_type": "code",
   "execution_count": 3,
   "id": "0567d7e1",
   "metadata": {},
   "outputs": [],
   "source": [
    "import numpy as np\n",
    "import pandas as pd\n",
    "import matplotlib.pyplot as plt\n",
    "import os\n",
    "import cv2\n"
   ]
  },
  {
   "cell_type": "code",
   "execution_count": 4,
   "id": "8fe991bf",
   "metadata": {
    "scrolled": true
   },
   "outputs": [
    {
     "data": {
      "text/html": [
       "<div>\n",
       "<style scoped>\n",
       "    .dataframe tbody tr th:only-of-type {\n",
       "        vertical-align: middle;\n",
       "    }\n",
       "\n",
       "    .dataframe tbody tr th {\n",
       "        vertical-align: top;\n",
       "    }\n",
       "\n",
       "    .dataframe thead th {\n",
       "        text-align: right;\n",
       "    }\n",
       "</style>\n",
       "<table border=\"1\" class=\"dataframe\">\n",
       "  <thead>\n",
       "    <tr style=\"text-align: right;\">\n",
       "      <th></th>\n",
       "      <th>filepath</th>\n",
       "      <th>xmin</th>\n",
       "      <th>xmax</th>\n",
       "      <th>ymin</th>\n",
       "      <th>ymax</th>\n",
       "    </tr>\n",
       "  </thead>\n",
       "  <tbody>\n",
       "    <tr>\n",
       "      <th>0</th>\n",
       "      <td>./train\\1.xml</td>\n",
       "      <td>436</td>\n",
       "      <td>516</td>\n",
       "      <td>355</td>\n",
       "      <td>392</td>\n",
       "    </tr>\n",
       "    <tr>\n",
       "      <th>1</th>\n",
       "      <td>./train\\10.xml</td>\n",
       "      <td>245</td>\n",
       "      <td>312</td>\n",
       "      <td>666</td>\n",
       "      <td>712</td>\n",
       "    </tr>\n",
       "    <tr>\n",
       "      <th>2</th>\n",
       "      <td>./train\\100.xml</td>\n",
       "      <td>403</td>\n",
       "      <td>470</td>\n",
       "      <td>653</td>\n",
       "      <td>718</td>\n",
       "    </tr>\n",
       "    <tr>\n",
       "      <th>3</th>\n",
       "      <td>./train\\11.xml</td>\n",
       "      <td>204</td>\n",
       "      <td>379</td>\n",
       "      <td>516</td>\n",
       "      <td>556</td>\n",
       "    </tr>\n",
       "    <tr>\n",
       "      <th>4</th>\n",
       "      <td>./train\\12.xml</td>\n",
       "      <td>310</td>\n",
       "      <td>404</td>\n",
       "      <td>666</td>\n",
       "      <td>693</td>\n",
       "    </tr>\n",
       "  </tbody>\n",
       "</table>\n",
       "</div>"
      ],
      "text/plain": [
       "          filepath  xmin  xmax  ymin  ymax\n",
       "0    ./train\\1.xml   436   516   355   392\n",
       "1   ./train\\10.xml   245   312   666   712\n",
       "2  ./train\\100.xml   403   470   653   718\n",
       "3   ./train\\11.xml   204   379   516   556\n",
       "4   ./train\\12.xml   310   404   666   693"
      ]
     },
     "execution_count": 4,
     "metadata": {},
     "output_type": "execute_result"
    }
   ],
   "source": [
    "df= pd.read_csv('labels.csv')\n",
    "df.head()"
   ]
  },
  {
   "cell_type": "code",
   "execution_count": 5,
   "id": "1a5cf2e0",
   "metadata": {},
   "outputs": [],
   "source": [
    "import xml.etree.ElementTree as xet\n"
   ]
  },
  {
   "cell_type": "code",
   "execution_count": 6,
   "id": "9a117287",
   "metadata": {},
   "outputs": [
    {
     "data": {
      "text/plain": [
       "'./train\\\\1.xml'"
      ]
     },
     "execution_count": 6,
     "metadata": {},
     "output_type": "execute_result"
    }
   ],
   "source": [
    "filename = df['filepath'][0]\n",
    "filename"
   ]
  },
  {
   "cell_type": "code",
   "execution_count": 7,
   "id": "b7796be9",
   "metadata": {},
   "outputs": [],
   "source": [
    "def getFilename(filename):\n",
    "    filename_image = xet.parse(filename).getroot().find('filename').text\n",
    "    filepath_image =os.path.join('./train',filename_image)\n",
    "    return filepath_image\n"
   ]
  },
  {
   "cell_type": "code",
   "execution_count": 8,
   "id": "6c50de4b",
   "metadata": {},
   "outputs": [
    {
     "data": {
      "text/plain": [
       "'./train\\\\1.jpeg'"
      ]
     },
     "execution_count": 8,
     "metadata": {},
     "output_type": "execute_result"
    }
   ],
   "source": [
    "getFilename(filename)\n"
   ]
  },
  {
   "cell_type": "code",
   "execution_count": 9,
   "id": "98d019e7",
   "metadata": {
    "scrolled": true
   },
   "outputs": [
    {
     "data": {
      "text/plain": [
       "['./train\\\\1.jpeg',\n",
       " './train\\\\10.jpeg',\n",
       " './train\\\\100.jpeg',\n",
       " './train\\\\11.jpeg',\n",
       " './train\\\\12.jpeg',\n",
       " './train\\\\13.jpeg',\n",
       " './train\\\\14.jpeg',\n",
       " './train\\\\15.jpeg',\n",
       " './train\\\\16.jpeg',\n",
       " './train\\\\17.jpeg',\n",
       " './train\\\\18.jpeg',\n",
       " './train\\\\19.jpeg',\n",
       " './train\\\\2.jpeg',\n",
       " './train\\\\20.jpeg',\n",
       " './train\\\\21.jpeg',\n",
       " './train\\\\22.jpeg',\n",
       " './train\\\\23.jpeg',\n",
       " './train\\\\24.jpeg',\n",
       " './train\\\\25.jpeg',\n",
       " './train\\\\26.jpeg',\n",
       " './train\\\\27.jpeg',\n",
       " './train\\\\28.jpeg',\n",
       " './train\\\\29.jpeg',\n",
       " './train\\\\30.jpeg',\n",
       " './train\\\\31.jpeg',\n",
       " './train\\\\32.jpeg',\n",
       " './train\\\\33.jpeg',\n",
       " './train\\\\34.jpeg',\n",
       " './train\\\\35.jpeg',\n",
       " './train\\\\36.jpeg',\n",
       " './train\\\\37.jpeg',\n",
       " './train\\\\38.jpeg',\n",
       " './train\\\\39.jpeg',\n",
       " './train\\\\4.jpeg',\n",
       " './train\\\\40.jpeg',\n",
       " './train\\\\41.jpeg',\n",
       " './train\\\\42.jpeg',\n",
       " './train\\\\43.jpeg',\n",
       " './train\\\\44.jpeg',\n",
       " './train\\\\45.jpeg',\n",
       " './train\\\\46.jpeg',\n",
       " './train\\\\47.jpeg',\n",
       " './train\\\\48.jpeg',\n",
       " './train\\\\49.jpeg',\n",
       " './train\\\\5.jpeg',\n",
       " './train\\\\50.jpeg',\n",
       " './train\\\\51.jpeg',\n",
       " './train\\\\52.jpeg',\n",
       " './train\\\\53.jpeg',\n",
       " './train\\\\54.jpeg',\n",
       " './train\\\\55.jpeg',\n",
       " './train\\\\56.jpeg',\n",
       " './train\\\\57.jpeg',\n",
       " './train\\\\58.jpeg',\n",
       " './train\\\\59.jpeg',\n",
       " './train\\\\6.jpeg',\n",
       " './train\\\\60.jpeg',\n",
       " './train\\\\61.jpeg',\n",
       " './train\\\\62.jpeg',\n",
       " './train\\\\63.jpeg',\n",
       " './train\\\\64.jpeg',\n",
       " './train\\\\65.jpeg',\n",
       " './train\\\\66.jpeg',\n",
       " './train\\\\67.jpeg',\n",
       " './train\\\\68.jpeg',\n",
       " './train\\\\69.jpeg',\n",
       " './train\\\\7.jpeg',\n",
       " './train\\\\70.jpeg',\n",
       " './train\\\\71.jpeg',\n",
       " './train\\\\72.jpeg',\n",
       " './train\\\\73.jpeg',\n",
       " './train\\\\74.jpeg',\n",
       " './train\\\\75.jpeg',\n",
       " './train\\\\76.jpeg',\n",
       " './train\\\\77.jpeg',\n",
       " './train\\\\78.jpeg',\n",
       " './train\\\\79.jpeg',\n",
       " './train\\\\8.jpeg',\n",
       " './train\\\\80.jpeg',\n",
       " './train\\\\81.jpeg',\n",
       " './train\\\\82.jpeg',\n",
       " './train\\\\83.jpeg',\n",
       " './train\\\\84.jpeg',\n",
       " './train\\\\85.jpeg',\n",
       " './train\\\\86.jpeg',\n",
       " './train\\\\87.jpeg',\n",
       " './train\\\\88.jpeg',\n",
       " './train\\\\89.jpeg',\n",
       " './train\\\\9.jpeg',\n",
       " './train\\\\90.jpeg',\n",
       " './train\\\\91.jpeg',\n",
       " './train\\\\92.jpeg',\n",
       " './train\\\\93.jpeg',\n",
       " './train\\\\94.jpeg',\n",
       " './train\\\\95.jpeg',\n",
       " './train\\\\96.jpeg',\n",
       " './train\\\\97.jpeg',\n",
       " './train\\\\98.jpeg',\n",
       " './train\\\\99.jpeg']"
      ]
     },
     "execution_count": 9,
     "metadata": {},
     "output_type": "execute_result"
    }
   ],
   "source": [
    "image_path =list(df['filepath'].apply(getFilename))\n",
    "image_path"
   ]
  },
  {
   "cell_type": "code",
   "execution_count": 10,
   "id": "84ee85d4",
   "metadata": {},
   "outputs": [
    {
     "data": {
      "text/plain": [
       "'./train\\\\1.jpeg'"
      ]
     },
     "execution_count": 10,
     "metadata": {},
     "output_type": "execute_result"
    }
   ],
   "source": [
    "file_path = image_path[0]\n",
    "file_path"
   ]
  },
  {
   "cell_type": "code",
   "execution_count": 9,
   "id": "9bc528ad",
   "metadata": {},
   "outputs": [],
   "source": [
    "img= cv2.imread(file_path)\n",
    "\n",
    "cv2.namedWindow('example',cv2.WINDOW_NORMAL)\n",
    "cv2.imshow('example',img)\n",
    "cv2.waitKey(1)\n",
    "cv2.destroyAllWindows()"
   ]
  },
  {
   "cell_type": "code",
   "execution_count": null,
   "id": "99abd075",
   "metadata": {},
   "outputs": [],
   "source": [
    "cv2.rectangle(img,(436,355),(516,392),(0,255,0),3)\n",
    "cv2.namedWindow('example',cv2.WINDOW_NORMAL)\n",
    "cv2.imshow('example',img)\n",
    "cv2.waitKey(1)\n",
    "cv2.destroyAllWindows()"
   ]
  },
  {
   "cell_type": "code",
   "execution_count": null,
   "id": "67485e46",
   "metadata": {},
   "outputs": [],
   "source": [
    "#!pip install tensorflow"
   ]
  },
  {
   "cell_type": "code",
   "execution_count": null,
   "id": "8ba4111e",
   "metadata": {},
   "outputs": [],
   "source": [
    "#!pip install --upgrade pip"
   ]
  },
  {
   "cell_type": "code",
   "execution_count": 1,
   "id": "c95f6b8e",
   "metadata": {},
   "outputs": [
    {
     "ename": "ModuleNotFoundError",
     "evalue": "No module named 'tensorflow'",
     "output_type": "error",
     "traceback": [
      "\u001b[1;31m---------------------------------------------------------------------------\u001b[0m",
      "\u001b[1;31mModuleNotFoundError\u001b[0m                       Traceback (most recent call last)",
      "Cell \u001b[1;32mIn[1], line 1\u001b[0m\n\u001b[1;32m----> 1\u001b[0m \u001b[38;5;28;01mimport\u001b[39;00m \u001b[38;5;21;01mtensorflow\u001b[39;00m\n\u001b[0;32m      2\u001b[0m \u001b[38;5;28;01mfrom\u001b[39;00m \u001b[38;5;21;01msklearn\u001b[39;00m\u001b[38;5;21;01m.\u001b[39;00m\u001b[38;5;21;01mmodel_selection\u001b[39;00m \u001b[38;5;28;01mimport\u001b[39;00m train_test_split\n\u001b[0;32m      3\u001b[0m \u001b[38;5;28;01mfrom\u001b[39;00m \u001b[38;5;21;01mtensorflow\u001b[39;00m\u001b[38;5;21;01m.\u001b[39;00m\u001b[38;5;21;01mkeras\u001b[39;00m\u001b[38;5;21;01m.\u001b[39;00m\u001b[38;5;21;01mpreprocessing\u001b[39;00m\u001b[38;5;21;01m.\u001b[39;00m\u001b[38;5;21;01mimage\u001b[39;00m \u001b[38;5;28;01mimport\u001b[39;00m load_img, img_to_array\n",
      "\u001b[1;31mModuleNotFoundError\u001b[0m: No module named 'tensorflow'"
     ]
    }
   ],
   "source": [
    "import tensorflow\n",
    "from sklearn.model_selection import train_test_split\n",
    "from tensorflow.keras.preprocessing.image import load_img, img_to_array"
   ]
  },
  {
   "cell_type": "code",
   "execution_count": 11,
   "id": "c74c5ba2",
   "metadata": {},
   "outputs": [],
   "source": [
    "labels = df.iloc[:,1:].values"
   ]
  },
  {
   "cell_type": "code",
   "execution_count": 12,
   "id": "76c74eff",
   "metadata": {},
   "outputs": [
    {
     "ename": "NameError",
     "evalue": "name 'shape' is not defined",
     "output_type": "error",
     "traceback": [
      "\u001b[1;31m---------------------------------------------------------------------------\u001b[0m",
      "\u001b[1;31mNameError\u001b[0m                                 Traceback (most recent call last)",
      "Cell \u001b[1;32mIn[12], line 4\u001b[0m\n\u001b[0;32m      2\u001b[0m image \u001b[38;5;241m=\u001b[39m image_path[ind]\n\u001b[0;32m      3\u001b[0m img_arr \u001b[38;5;241m=\u001b[39m cv2\u001b[38;5;241m.\u001b[39mimread(image)\n\u001b[1;32m----> 4\u001b[0m h,w,d \u001b[38;5;241m=\u001b[39m img_arr,shape\n\u001b[0;32m      6\u001b[0m load_image \u001b[38;5;241m=\u001b[39m load_img(image,target_size\u001b[38;5;241m=\u001b[39m(\u001b[38;5;241m224\u001b[39m,\u001b[38;5;241m224\u001b[39m))\n\u001b[0;32m      7\u001b[0m load_image_arr \u001b[38;5;241m=\u001b[39m img_to_array(load_image)\n",
      "\u001b[1;31mNameError\u001b[0m: name 'shape' is not defined"
     ]
    }
   ],
   "source": [
    "ind = 0\n",
    "image = image_path[ind]\n",
    "img_arr = cv2.imread(image)\n",
    "h,w,d = img_arr,shape\n",
    "\n",
    "load_image = load_img(image,target_size=(224,224))\n",
    "load_image_arr = img_to_array(load_image)\n",
    "xmin,xmax,ymin,ymax = labels[ind]\n",
    "\n",
    "nxmin,nxmax = xmin/w,xmax/w\n",
    "nymin,nymax = ymin/w,ymax/h\n",
    "label_norm = (nxmin,nxmax,nymin,nymax)"
   ]
  },
  {
   "cell_type": "code",
   "execution_count": null,
   "id": "1b09d5ef",
   "metadata": {},
   "outputs": [],
   "source": [
    "label_norm"
   ]
  },
  {
   "cell_type": "code",
   "execution_count": null,
   "id": "76bbae7c",
   "metadata": {},
   "outputs": [],
   "source": []
  }
 ],
 "metadata": {
  "kernelspec": {
   "display_name": "Python 3 (ipykernel)",
   "language": "python",
   "name": "python3"
  },
  "language_info": {
   "codemirror_mode": {
    "name": "ipython",
    "version": 3
   },
   "file_extension": ".py",
   "mimetype": "text/x-python",
   "name": "python",
   "nbconvert_exporter": "python",
   "pygments_lexer": "ipython3",
   "version": "3.11.5"
  }
 },
 "nbformat": 4,
 "nbformat_minor": 5
}
