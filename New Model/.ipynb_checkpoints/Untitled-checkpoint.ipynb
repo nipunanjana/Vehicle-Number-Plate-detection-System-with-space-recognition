{
 "cells": [
  {
   "cell_type": "code",
   "execution_count": 1,
   "id": "92ce5e89",
   "metadata": {},
   "outputs": [],
   "source": [
    "import pandas as pd\n",
    "import xml.etree.ElementTree as xet"
   ]
  },
  {
   "cell_type": "code",
   "execution_count": 2,
   "id": "3ff371f3",
   "metadata": {},
   "outputs": [],
   "source": [
    "from glob import glob"
   ]
  },
  {
   "cell_type": "code",
   "execution_count": 3,
   "id": "e89f7ca8",
   "metadata": {},
   "outputs": [
    {
     "ename": "SyntaxError",
     "evalue": "invalid syntax (2806267244.py, line 1)",
     "output_type": "error",
     "traceback": [
      "\u001b[1;36m  Cell \u001b[1;32mIn[3], line 1\u001b[1;36m\u001b[0m\n\u001b[1;33m    path = global('./Label/*.txt')\u001b[0m\n\u001b[1;37m           ^\u001b[0m\n\u001b[1;31mSyntaxError\u001b[0m\u001b[1;31m:\u001b[0m invalid syntax\n"
     ]
    }
   ],
   "source": [
    "path = global('./Label/*.txt')\n",
    "path"
   ]
  },
  {
   "cell_type": "code",
   "execution_count": 4,
   "id": "61cde139",
   "metadata": {
    "collapsed": true
   },
   "outputs": [
    {
     "ename": "SyntaxError",
     "evalue": "invalid syntax (4097343313.py, line 1)",
     "output_type": "error",
     "traceback": [
      "\u001b[1;36m  Cell \u001b[1;32mIn[4], line 1\u001b[1;36m\u001b[0m\n\u001b[1;33m    path = global('./label/*.txt')\u001b[0m\n\u001b[1;37m           ^\u001b[0m\n\u001b[1;31mSyntaxError\u001b[0m\u001b[1;31m:\u001b[0m invalid syntax\n"
     ]
    }
   ],
   "source": [
    "path = global('./label/*.txt')\n",
    "path"
   ]
  },
  {
   "cell_type": "code",
   "execution_count": 5,
   "id": "00e72953",
   "metadata": {},
   "outputs": [
    {
     "data": {
      "text/plain": [
       "['./Label\\\\1.txt',\n",
       " './Label\\\\10.txt',\n",
       " './Label\\\\100.txt',\n",
       " './Label\\\\11.txt',\n",
       " './Label\\\\12.txt',\n",
       " './Label\\\\13.txt',\n",
       " './Label\\\\14.txt',\n",
       " './Label\\\\15.txt',\n",
       " './Label\\\\16.txt',\n",
       " './Label\\\\17.txt',\n",
       " './Label\\\\18.txt',\n",
       " './Label\\\\19.txt',\n",
       " './Label\\\\2.txt',\n",
       " './Label\\\\20.txt',\n",
       " './Label\\\\21.txt',\n",
       " './Label\\\\22.txt',\n",
       " './Label\\\\23.txt',\n",
       " './Label\\\\24.txt',\n",
       " './Label\\\\25.txt',\n",
       " './Label\\\\26.txt',\n",
       " './Label\\\\27.txt',\n",
       " './Label\\\\28.txt',\n",
       " './Label\\\\29.txt',\n",
       " './Label\\\\3.txt',\n",
       " './Label\\\\30.txt',\n",
       " './Label\\\\31.txt',\n",
       " './Label\\\\32.txt',\n",
       " './Label\\\\33.txt',\n",
       " './Label\\\\34.txt',\n",
       " './Label\\\\35.txt',\n",
       " './Label\\\\36.txt',\n",
       " './Label\\\\37.txt',\n",
       " './Label\\\\38.txt',\n",
       " './Label\\\\39.txt',\n",
       " './Label\\\\4.txt',\n",
       " './Label\\\\40.txt',\n",
       " './Label\\\\41.txt',\n",
       " './Label\\\\42.txt',\n",
       " './Label\\\\43.txt',\n",
       " './Label\\\\44.txt',\n",
       " './Label\\\\45.txt',\n",
       " './Label\\\\46.txt',\n",
       " './Label\\\\47.txt',\n",
       " './Label\\\\48.txt',\n",
       " './Label\\\\49.txt',\n",
       " './Label\\\\5.txt',\n",
       " './Label\\\\50.txt',\n",
       " './Label\\\\51.txt',\n",
       " './Label\\\\52.txt',\n",
       " './Label\\\\53.txt',\n",
       " './Label\\\\54.txt',\n",
       " './Label\\\\55.txt',\n",
       " './Label\\\\56.txt',\n",
       " './Label\\\\57.txt',\n",
       " './Label\\\\58.txt',\n",
       " './Label\\\\59.txt',\n",
       " './Label\\\\6.txt',\n",
       " './Label\\\\60.txt',\n",
       " './Label\\\\61.txt',\n",
       " './Label\\\\62.txt',\n",
       " './Label\\\\63.txt',\n",
       " './Label\\\\64.txt',\n",
       " './Label\\\\65.txt',\n",
       " './Label\\\\66.txt',\n",
       " './Label\\\\67.txt',\n",
       " './Label\\\\68.txt',\n",
       " './Label\\\\69.txt',\n",
       " './Label\\\\7.txt',\n",
       " './Label\\\\70.txt',\n",
       " './Label\\\\71.txt',\n",
       " './Label\\\\72.txt',\n",
       " './Label\\\\73.txt',\n",
       " './Label\\\\74.txt',\n",
       " './Label\\\\75.txt',\n",
       " './Label\\\\76.txt',\n",
       " './Label\\\\77.txt',\n",
       " './Label\\\\78.txt',\n",
       " './Label\\\\79.txt',\n",
       " './Label\\\\8.txt',\n",
       " './Label\\\\80.txt',\n",
       " './Label\\\\81.txt',\n",
       " './Label\\\\82.txt',\n",
       " './Label\\\\83.txt',\n",
       " './Label\\\\84.txt',\n",
       " './Label\\\\85.txt',\n",
       " './Label\\\\86.txt',\n",
       " './Label\\\\87.txt',\n",
       " './Label\\\\88.txt',\n",
       " './Label\\\\89.txt',\n",
       " './Label\\\\9.txt',\n",
       " './Label\\\\90.txt',\n",
       " './Label\\\\91.txt',\n",
       " './Label\\\\92.txt',\n",
       " './Label\\\\93.txt',\n",
       " './Label\\\\94.txt',\n",
       " './Label\\\\95.txt',\n",
       " './Label\\\\96.txt',\n",
       " './Label\\\\97.txt',\n",
       " './Label\\\\98.txt',\n",
       " './Label\\\\99.txt']"
      ]
     },
     "execution_count": 5,
     "metadata": {},
     "output_type": "execute_result"
    }
   ],
   "source": [
    "path = glob('./Label/*.txt')\n",
    "path"
   ]
  },
  {
   "cell_type": "code",
   "execution_count": 7,
   "id": "3b6a03a3",
   "metadata": {},
   "outputs": [
    {
     "ename": "ParseError",
     "evalue": "syntax error: line 1, column 0 (<string>)",
     "output_type": "error",
     "traceback": [
      "Traceback \u001b[1;36m(most recent call last)\u001b[0m:\n",
      "\u001b[0m  File \u001b[0;32mG:\\yu\\Lib\\site-packages\\IPython\\core\\interactiveshell.py:3505\u001b[0m in \u001b[0;35mrun_code\u001b[0m\n    exec(code_obj, self.user_global_ns, self.user_ns)\u001b[0m\n",
      "\u001b[0m  Cell \u001b[0;32mIn[7], line 2\u001b[0m\n    info = xet.parse(filename)\u001b[0m\n",
      "\u001b[0m  File \u001b[0;32mG:\\yu\\Lib\\xml\\etree\\ElementTree.py:1218\u001b[0m in \u001b[0;35mparse\u001b[0m\n    tree.parse(source, parser)\u001b[0m\n",
      "\u001b[1;36m  File \u001b[1;32mG:\\yu\\Lib\\xml\\etree\\ElementTree.py:580\u001b[1;36m in \u001b[1;35mparse\u001b[1;36m\n\u001b[1;33m    self._root = parser._parse_whole(source)\u001b[1;36m\n",
      "\u001b[1;36m  File \u001b[1;32m<string>\u001b[1;36m\u001b[0m\n\u001b[1;31mParseError\u001b[0m\u001b[1;31m:\u001b[0m syntax error: line 1, column 0\n"
     ]
    }
   ],
   "source": [
    "filename = path[0]\n",
    "info = xet.parse(filename)\n",
    "root =info.getroot()\n",
    "member_object = root.find('object')\n",
    "labels_info = member.find('bndbox')\n",
    "xmin = int(lables_info.find('xmin').text)\n",
    "xmax = int(lables_info.find('xmax').text)\n",
    "ymin = int(lables_info.find('ymin').text)\n",
    "ymax = int(lables_info.find('ymax').text)\n",
    "print(xmin,xmax,ymin,ymax)"
   ]
  },
  {
   "cell_type": "code",
   "execution_count": 8,
   "id": "97e63403",
   "metadata": {},
   "outputs": [
    {
     "ename": "ParseError",
     "evalue": "syntax error: line 1, column 0 (<string>)",
     "output_type": "error",
     "traceback": [
      "Traceback \u001b[1;36m(most recent call last)\u001b[0m:\n",
      "\u001b[0m  File \u001b[0;32mG:\\yu\\Lib\\site-packages\\IPython\\core\\interactiveshell.py:3505\u001b[0m in \u001b[0;35mrun_code\u001b[0m\n    exec(code_obj, self.user_global_ns, self.user_ns)\u001b[0m\n",
      "\u001b[0m  Cell \u001b[0;32mIn[8], line 2\u001b[0m\n    info = xet.parse(filename)\u001b[0m\n",
      "\u001b[0m  File \u001b[0;32mG:\\yu\\Lib\\xml\\etree\\ElementTree.py:1218\u001b[0m in \u001b[0;35mparse\u001b[0m\n    tree.parse(source, parser)\u001b[0m\n",
      "\u001b[1;36m  File \u001b[1;32mG:\\yu\\Lib\\xml\\etree\\ElementTree.py:580\u001b[1;36m in \u001b[1;35mparse\u001b[1;36m\n\u001b[1;33m    self._root = parser._parse_whole(source)\u001b[1;36m\n",
      "\u001b[1;36m  File \u001b[1;32m<string>\u001b[1;36m\u001b[0m\n\u001b[1;31mParseError\u001b[0m\u001b[1;31m:\u001b[0m syntax error: line 1, column 0\n"
     ]
    }
   ],
   "source": [
    "filename = path[0]\n",
    "info = xet.parse(filename)\n",
    "root =info.getroot()\n",
    "member_object = root.find('object')\n",
    "labels_info = member.find('bndbox')\n",
    "xmin = int(lables_info.find('xmin').text)\n",
    "xmax = int(lables_info.find('xmax').text)\n",
    "ymin = int(lables_info.find('ymin').text)\n",
    "ymax = int(lables_info.find('ymax').text)\n",
    "print(xmin,xmax,ymin,ymax)"
   ]
  },
  {
   "cell_type": "code",
   "execution_count": 9,
   "id": "8492ac72",
   "metadata": {},
   "outputs": [
    {
     "ename": "ParseError",
     "evalue": "syntax error: line 1, column 0 (<string>)",
     "output_type": "error",
     "traceback": [
      "Traceback \u001b[1;36m(most recent call last)\u001b[0m:\n",
      "\u001b[0m  File \u001b[0;32mG:\\yu\\Lib\\site-packages\\IPython\\core\\interactiveshell.py:3505\u001b[0m in \u001b[0;35mrun_code\u001b[0m\n    exec(code_obj, self.user_global_ns, self.user_ns)\u001b[0m\n",
      "\u001b[0m  Cell \u001b[0;32mIn[9], line 2\u001b[0m\n    info = xet.parse(filename)\u001b[0m\n",
      "\u001b[0m  File \u001b[0;32mG:\\yu\\Lib\\xml\\etree\\ElementTree.py:1218\u001b[0m in \u001b[0;35mparse\u001b[0m\n    tree.parse(source, parser)\u001b[0m\n",
      "\u001b[1;36m  File \u001b[1;32mG:\\yu\\Lib\\xml\\etree\\ElementTree.py:580\u001b[1;36m in \u001b[1;35mparse\u001b[1;36m\n\u001b[1;33m    self._root = parser._parse_whole(source)\u001b[1;36m\n",
      "\u001b[1;36m  File \u001b[1;32m<string>\u001b[1;36m\u001b[0m\n\u001b[1;31mParseError\u001b[0m\u001b[1;31m:\u001b[0m syntax error: line 1, column 0\n"
     ]
    }
   ],
   "source": [
    "filename = path[0]\n",
    "info = xet.parse(filename)\n",
    "root =info.getroot()\n",
    "member_object = root.find('object')\n",
    "labels_info = member.find('bndbox')\n",
    "xmin = int(lables_info.find('xmin').text)\n",
    "xmax = int(lables_info.find('xmax').text)\n",
    "ymin = int(lables_info.find('ymin').text)\n",
    "ymax = int(lables_info.find('ymax').text)\n",
    "print(xmin,xmax,ymin,ymax)"
   ]
  },
  {
   "cell_type": "code",
   "execution_count": null,
   "id": "07eaab7d",
   "metadata": {},
   "outputs": [],
   "source": []
  }
 ],
 "metadata": {
  "kernelspec": {
   "display_name": "Python 3 (ipykernel)",
   "language": "python",
   "name": "python3"
  },
  "language_info": {
   "codemirror_mode": {
    "name": "ipython",
    "version": 3
   },
   "file_extension": ".py",
   "mimetype": "text/x-python",
   "name": "python",
   "nbconvert_exporter": "python",
   "pygments_lexer": "ipython3",
   "version": "3.11.5"
  }
 },
 "nbformat": 4,
 "nbformat_minor": 5
}
